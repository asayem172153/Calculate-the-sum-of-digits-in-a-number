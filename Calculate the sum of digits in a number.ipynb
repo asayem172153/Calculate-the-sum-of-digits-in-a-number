{
  "nbformat": 4,
  "nbformat_minor": 0,
  "metadata": {
    "colab": {
      "provenance": []
    },
    "kernelspec": {
      "name": "python3",
      "display_name": "Python 3"
    },
    "language_info": {
      "name": "python"
    }
  },
  "cells": [
    {
      "cell_type": "markdown",
      "source": [
        "**General Approach**"
      ],
      "metadata": {
        "id": "EQDxgP2Wz3g3"
      }
    },
    {
      "cell_type": "code",
      "execution_count": 2,
      "metadata": {
        "colab": {
          "base_uri": "https://localhost:8080/"
        },
        "id": "GXZ5GSo7z0pv",
        "outputId": "b19dbe00-86ac-4f35-90f2-899250dd3dc4"
      },
      "outputs": [
        {
          "output_type": "stream",
          "name": "stdout",
          "text": [
            "Enter a number to sum its digits: 110\n",
            "Sum of 110 is 2\n"
          ]
        }
      ],
      "source": [
        "number = input('Enter a number to sum its digits: ')\n",
        "\n",
        "sum = 0\n",
        "\n",
        "for i in number:\n",
        "  sum += int(i)\n",
        "\n",
        "print('Sum of',number,'is',sum)"
      ]
    },
    {
      "cell_type": "markdown",
      "source": [
        "**Another approach**"
      ],
      "metadata": {
        "id": "VF-gVczf1B0w"
      }
    },
    {
      "cell_type": "code",
      "source": [
        "number = int(input('Enter a number to sum its digits: '))\n",
        "\n",
        "sum = 0\n",
        "\n",
        "while number > 0:\n",
        "  digit = number % 10\n",
        "  sum += digit\n",
        "  number //= 10 # number = number//10\n",
        "\n",
        "print('Sum of the given number is',sum)"
      ],
      "metadata": {
        "colab": {
          "base_uri": "https://localhost:8080/"
        },
        "id": "yJLRaFKM1ASA",
        "outputId": "0b4d3651-ff6c-4a90-977c-0378ec6073c3"
      },
      "execution_count": 4,
      "outputs": [
        {
          "output_type": "stream",
          "name": "stdout",
          "text": [
            "Enter a number to sum its digits: 225\n",
            "Sum of the given number is 9\n"
          ]
        }
      ]
    }
  ]
}